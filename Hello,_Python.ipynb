{
  "nbformat": 4,
  "nbformat_minor": 0,
  "metadata": {
    "colab": {
      "provenance": [],
      "authorship_tag": "ABX9TyOOZiJu4Kp8whKJx3L3Kyah",
      "include_colab_link": true
    },
    "kernelspec": {
      "name": "python3",
      "display_name": "Python 3"
    },
    "language_info": {
      "name": "python"
    }
  },
  "cells": [
    {
      "cell_type": "markdown",
      "metadata": {
        "id": "view-in-github",
        "colab_type": "text"
      },
      "source": [
        "<a href=\"https://colab.research.google.com/github/saebswaity/Assignment-Bank-Account/blob/main/Hello%2C_Python.ipynb\" target=\"_parent\"><img src=\"https://colab.research.google.com/assets/colab-badge.svg\" alt=\"Open In Colab\"/></a>"
      ]
    },
    {
      "cell_type": "code",
      "execution_count": 2,
      "metadata": {
        "colab": {
          "base_uri": "https://localhost:8080/"
        },
        "id": "1Nz-hxfRbaky",
        "outputId": "0633a961-67db-4c18-cbf3-8c1876afad56"
      },
      "outputs": [
        {
          "output_type": "stream",
          "name": "stdout",
          "text": [
            "Hello, Python!\n"
          ]
        }
      ],
      "source": [
        "# Exercise 1: Hello, Python!\n",
        "\n",
        "# Print \"Hello, Python!\" to the console\n",
        "print(\"Hello, Python!\")\n"
      ]
    },
    {
      "cell_type": "code",
      "source": [
        "# Exercise 2: Variable Swap using Equation\n",
        "\n",
        "# Initial values of variables a and b\n",
        "a = 5\n",
        "b = 10\n",
        "\n",
        "# Display the initial values\n",
        "print(\"Before swapping:\")\n",
        "print(\"a =\", a)\n",
        "print(\"b =\", b)\n",
        "\n",
        "# Swap the values using the provided equation\n",
        "a = a + b\n",
        "b = a - b\n",
        "a = a - b\n",
        "\n",
        "# Display the swapped values\n",
        "print(\"\\nAfter swapping:\")\n",
        "print(\"a =\", a)\n",
        "print(\"b =\", b)\n"
      ],
      "metadata": {
        "colab": {
          "base_uri": "https://localhost:8080/"
        },
        "id": "cDIA8BQpbvsu",
        "outputId": "06eee744-57c5-42eb-adc1-e04c7f168ead"
      },
      "execution_count": 1,
      "outputs": [
        {
          "output_type": "stream",
          "name": "stdout",
          "text": [
            "Before swapping:\n",
            "a = 5\n",
            "b = 10\n",
            "\n",
            "After swapping:\n",
            "a = 10\n",
            "b = 5\n"
          ]
        }
      ]
    }
  ]
}